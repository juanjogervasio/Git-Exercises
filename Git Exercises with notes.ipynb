{
 "cells": [
  {
   "cell_type": "markdown",
   "id": "9d858423-c5d5-4b6d-a68a-21378c4ebabe",
   "metadata": {},
   "source": [
    "# Git Excersises"
   ]
  },
  {
   "cell_type": "markdown",
   "id": "635bbf7f-1c09-4df5-bba0-9ed21cf493ca",
   "metadata": {},
   "source": [
    "Exercises taken from the website https://gitexercises.fracz.com\n",
    "\n",
    "User: Juanjo   Mail: juanjogervasio"
   ]
  },
  {
   "cell_type": "markdown",
   "id": "f980c4cd-81f2-4f21-b1cb-aed66a105dfc",
   "metadata": {
    "jp-MarkdownHeadingCollapsed": true
   },
   "source": [
    "## 1) Push a commit you have made "
   ]
  },
  {
   "cell_type": "markdown",
   "id": "c1cad33a-88cd-46e8-9bf9-9a8817916cd5",
   "metadata": {},
   "source": [
    "### Instructions\n",
    "\n",
    "The first exercise is to push a commit that is created when you run the git start command.\n",
    "\n",
    "Just try git verify after you have initialized the exercises and be proud of passing the first one :-)\n",
    "\n",
    "### The easiest solution:"
   ]
  },
  {
   "cell_type": "raw",
   "id": "ed21343c-72cd-49c3-9346-836a9e4ea291",
   "metadata": {},
   "source": [
    "git verify"
   ]
  },
  {
   "cell_type": "markdown",
   "id": "70fffb2a-3d74-4c7b-83d9-f5f344c4e0a4",
   "metadata": {
    "jp-MarkdownHeadingCollapsed": true
   },
   "source": [
    "## 2) Commit one file of two currently staged "
   ]
  },
  {
   "cell_type": "markdown",
   "id": "8ac663c5-7d4c-4ddb-8fb5-7afcee6a9029",
   "metadata": {},
   "source": [
    "### Instructions\n",
    "\n",
    "There are two files created in the root project directory - A.txt and B.txt. They are both added to the staging area.\n",
    "\n",
    "The goal is to commit only one of them.\n",
    "    \n",
    "### The easiest solution"
   ]
  },
  {
   "cell_type": "raw",
   "id": "8cc72c1e-a4d4-4fca-91b1-66e1f2b67575",
   "metadata": {},
   "source": [
    "git reset A.txt\n",
    "git commit -m \"Commit B.txt file\""
   ]
  },
  {
   "cell_type": "markdown",
   "id": "0611c3b8-2a48-47d1-a41f-62a0dd53b72c",
   "metadata": {
    "jp-MarkdownHeadingCollapsed": true
   },
   "source": [
    "## 3) Ignore unwanted files : .gitignore file"
   ]
  },
  {
   "cell_type": "markdown",
   "id": "eaae9345-84f2-4b50-b3d6-c1ec08a092a2",
   "metadata": {},
   "source": [
    "### Instructions\n",
    "\n",
    "It is often good idea to tell Git which files it should track and which it should not. Developers almost always do not want to include generated files, compiled code or libraries into their project history.\n",
    "\n",
    "Your task is to create and commit configuration that would ignore:\n",
    "\n",
    "    all files with exe extension\n",
    "    all files with o extension\n",
    "    all files with jar extension\n",
    "    the whole libraries directory\n",
    "\n",
    "Sample files are generated for you.\n",
    "\n",
    "### The easiest solution"
   ]
  },
  {
   "cell_type": "raw",
   "id": "4e94e544-7bf2-4ee5-a3ed-21df6cbe8484",
   "metadata": {},
   "source": [
    "echo *.o > .gitignore\n",
    "echo *.exe >> .gitignore\n",
    "echo *.jar >> .gitignore\n",
    "echo libraries/ >> .gitignore\n",
    "git add .gitignore\n",
    "git commit -m \"Ignore binary files\""
   ]
  },
  {
   "cell_type": "markdown",
   "id": "ce4fc414-dce0-4a9d-83db-6613917e83cc",
   "metadata": {},
   "source": [
    "## 4) Chase branch that escaped: a merge excersise"
   ]
  },
  {
   "cell_type": "markdown",
   "id": "78788a3c-09a5-4daf-914c-8570b063f9cd",
   "metadata": {},
   "source": [
    "### Instructions\n",
    "\n",
    "You are currently on chase-branch branch. There is also escaped branch that has two more commits."
   ]
  },
  {
   "cell_type": "raw",
   "id": "5c39ce12-7cfe-4b19-bcee-e611a3b64e65",
   "metadata": {},
   "source": [
    "   HEAD\n",
    "     |\n",
    "chase-branch        escaped\n",
    "     |                 |\n",
    "     A <----- B <----- C"
   ]
  },
  {
   "cell_type": "markdown",
   "id": "517ae701-2595-4996-877f-99ad410b6cbe",
   "metadata": {},
   "source": [
    "You want to make chase-branch to point to the same commit as the escaped branch."
   ]
  },
  {
   "cell_type": "raw",
   "id": "34189e49-809f-4ea0-847e-2e8e2751b561",
   "metadata": {},
   "source": [
    "                    escaped\n",
    "                       |\n",
    "     A <----- B <----- C\n",
    "                       |\n",
    "                  chase-branch\n",
    "                       |\n",
    "                      HEAD\n"
   ]
  },
  {
   "cell_type": "markdown",
   "id": "d39686e4-a34e-4f2c-b408-906044016837",
   "metadata": {},
   "source": [
    "### The easiest solution"
   ]
  },
  {
   "cell_type": "raw",
   "id": "08d57ddf-2111-4f13-93e6-b2e81bba071a",
   "metadata": {},
   "source": [
    "git merge escaped chase-branch -m \"merge message\""
   ]
  },
  {
   "cell_type": "markdown",
   "id": "6dcc346a-29aa-460e-9377-ba6a518ff0b4",
   "metadata": {},
   "source": [
    "## 5) Resolve a merge conflict"
   ]
  },
  {
   "cell_type": "markdown",
   "id": "0754b287-669a-4d17-8bef-b53d1897ef78",
   "metadata": {},
   "source": [
    "### Instructions\n",
    "\n",
    "Merge conflict appears when you change the same part of the same file differently in the two branches you're merging together. Conflicts require developer to solve them by hand.\n",
    "\n",
    "Your repository looks like this:"
   ]
  },
  {
   "cell_type": "raw",
   "id": "69cb910c-d81f-44f7-a38d-01dc6a14404f",
   "metadata": {},
   "source": [
    "\n",
    "        HEAD\n",
    "         |\n",
    "    merge-conflict\n",
    "         |\n",
    "A <----- B\n",
    " \\\n",
    "  \\----- C\n",
    "         |\n",
    "another-piece-of-work\n"
   ]
  },
  {
   "cell_type": "markdown",
   "id": "9b5cdfce-ae96-4019-a3a1-c34a9fd0d9cf",
   "metadata": {},
   "source": [
    "You want to merge the another-piece-of-work into your current branch. This will cause a merge conflict which you have to resolve. Your repository should look like this:"
   ]
  },
  {
   "cell_type": "raw",
   "id": "a21bc2cc-e043-430f-a880-0549aa96f32e",
   "metadata": {},
   "source": [
    "                 HEAD\n",
    "                  |\n",
    "             merge-conflict\n",
    "                  |\n",
    "A <----- B <----- D\n",
    " \\               /\n",
    "  \\----- C <----/\n",
    "         |\n",
    "another-piece-of-work\n"
   ]
  },
  {
   "cell_type": "markdown",
   "id": "a1f78b79-e9c3-4bf6-9de8-af25999fb4b5",
   "metadata": {},
   "source": [
    "### The easiest solution"
   ]
  },
  {
   "cell_type": "raw",
   "id": "0518861d-5c53-418a-ad30-f4f93a456deb",
   "metadata": {},
   "source": [
    "git merge another-piece-of-work\n",
    "echo 2+3=5 > equation.txt -------- nano equation.txt [and edit it]\n",
    "git add equation.txt\n",
    "git commit --no-edit ------------- git commit -m \"commit message\""
   ]
  },
  {
   "cell_type": "markdown",
   "id": "eb458f0d-0863-44a9-886c-5fded071e40f",
   "metadata": {},
   "source": [
    "### Further info\n",
    "\n",
    "Because the branches have diverged, fast-forward merge strategy could not be applied. Therefore, a merge conflict was possible. Because two branches made changes in the same file and near the same line, Git decided not to handle the situation itself but to throw a merge conflict (letting user decide what to do).\n",
    "\n",
    "After you resolve the conflict, you need to add it to staging area to tell Git that you have handled the situation. git commit then continues the merging process.\n",
    "\n",
    "However, when Git stops and tells you that there is a conflict to resolve, you are not left on your own. There are some tricks that can make conflict resolution process a lot easier.\n",
    "\n",
    "* By default, Git shows only your changes and their changes of conflicting lines. This will look like this:"
   ]
  },
  {
   "cell_type": "raw",
   "id": "b6aed41b-0ade-4fc9-a378-9031b4a15de6",
   "metadata": {},
   "source": [
    "     <<<<<<< HEAD\n",
    "     2 + ? = 5\n",
    "     =======\n",
    "     ? + 3 = 5\n",
    "     >>>>>>> another-piece-of-work"
   ]
  },
  {
   "cell_type": "markdown",
   "id": "0ae3eca8-a465-4a82-90ea-49d759d91a4f",
   "metadata": {},
   "source": [
    "* It is often very helpful to see also how the code looked like before both of these changes. Seeing more context can help figure out good conflict resolution a lot faster. You can checkout each file in diff3 mode that shows all three states of conflicting lines."
   ]
  },
  {
   "cell_type": "raw",
   "id": "618c418a-8a10-4a38-a97c-90ee35fdc93a",
   "metadata": {},
   "source": [
    "     git checkout --conflict=diff3 equation.txt"
   ]
  },
  {
   "cell_type": "markdown",
   "id": "de687792-89a7-4d32-8fe2-3805a93dcfea",
   "metadata": {},
   "source": [
    "Conflict in equation.txt will be presented now as"
   ]
  },
  {
   "cell_type": "raw",
   "id": "dcab4a4b-86e2-4c6e-a477-0bd1cd942c0b",
   "metadata": {},
   "source": [
    "    <<<<<<< HEAD\n",
    "    2 + ? = 5\n",
    "    ||||||| merged common ancestors\n",
    "    ? + ? = 5\n",
    "    =======\n",
    "    ? + 3 = 5\n",
    "    >>>>>>> another-piece-of-work"
   ]
  },
  {
   "cell_type": "markdown",
   "id": "70eb1d91-50d5-4ead-a930-396229923365",
   "metadata": {
    "jp-MarkdownHeadingCollapsed": true
   },
   "source": [
    "## 6) Saving your work (without commiting): Stashing"
   ]
  },
  {
   "cell_type": "markdown",
   "id": "40652892-1a84-4c49-919b-a3ff6b43b92d",
   "metadata": {},
   "source": [
    "### Instructions\n",
    "\n",
    "You are working hard on a regular issue while your boss comes in and wants you to fix a bug. State of your current working area is a total mess so you don't feel comfortable with making a commit now. However, you need to fix the found bug ASAP.\n",
    "\n",
    "Git lets you to save your work on a side and continue it later. Find appropriate Git tool and use it to handle the situation appropriately.\n",
    "\n",
    "Look for a bug to remove in bug.txt.\n",
    "\n",
    "After you commit the bugfix, get back to your work. Finish it by adding a new line to bug.txt with\n",
    "\n",
    "Finally, finished it!\n",
    "\n",
    "Then, commit your work after bugfix.\n"
   ]
  },
  {
   "cell_type": "markdown",
   "id": "07e8e246-e361-4be7-a4cd-7f6b74f5ced3",
   "metadata": {},
   "source": [
    "### The easiest solution "
   ]
  },
  {
   "cell_type": "raw",
   "id": "cfdca35e-f303-4ccf-9704-de600226cec7",
   "metadata": {},
   "source": [
    "git stash\n",
    "# fix a bug\n",
    "git commit -am \"Fix a bug\"\n",
    "git stash pop\n",
    "echo \"Finally, finished it!\" >> bug.txt\n",
    "git commit -am \"Finish my work\"\n"
   ]
  },
  {
   "cell_type": "markdown",
   "id": "eaa35925-9c83-40bc-8912-40bf9c5ca8fe",
   "metadata": {},
   "source": [
    "## 7) Change branch history: Rebasing"
   ]
  },
  {
   "cell_type": "markdown",
   "id": "b511172a-1c51-46b2-992e-b9fb24a16894",
   "metadata": {},
   "source": [
    "### Instructions\n",
    "\n",
    "You were working on a regular issue while your boss came in and told you to fix recent bug in an application. Because your work on the issue hasn't been done yet, you decided to go back where you started and do a bug fix there.\n",
    "\n",
    "Your repository look like this:"
   ]
  },
  {
   "cell_type": "raw",
   "id": "ada27835-290d-4be1-bf30-0923e5f2a172",
   "metadata": {},
   "source": [
    "        HEAD\n",
    "         |\n",
    "change-branch-history\n",
    "         |\n",
    "A <----- B\n",
    " \\\n",
    "  \\----- C\n",
    "         |\n",
    "     hot-bugfix"
   ]
  },
  {
   "cell_type": "markdown",
   "id": "73105316-4449-4063-91f0-fa7e16727f00",
   "metadata": {},
   "source": [
    "Now you realized that the bug is really annoying and you don't want to continue your work without the fix you have made. You wish your repository looked like you started after fixing a bug."
   ]
  },
  {
   "cell_type": "raw",
   "id": "792cbdc1-387c-4936-84e9-42d4082699c4",
   "metadata": {},
   "source": [
    "                 HEAD\n",
    "                  |\n",
    "         change-branch-history\n",
    "                  |\n",
    "A <----- C <----- B\n",
    "         |\n",
    "     hot-bugfix"
   ]
  },
  {
   "cell_type": "markdown",
   "id": "cfb8f431-c81d-458f-b149-51697e1f5836",
   "metadata": {},
   "source": [
    "### The easiest solution"
   ]
  },
  {
   "cell_type": "raw",
   "id": "48722aff-6f7b-45ea-b475-ec95c119e62e",
   "metadata": {},
   "source": [
    "git rebase hot-bugfix"
   ]
  },
  {
   "cell_type": "markdown",
   "id": "8b7f3de5-7162-4b77-82af-d4856941df0c",
   "metadata": {},
   "source": [
    "**Note:** After the rebase operation, there are still two different branches, hot-bugfix and change-branch-history. In order to keep the cleaner history whit only one branch, a merging could be done: "
   ]
  },
  {
   "cell_type": "raw",
   "id": "5ae730c9-062a-468c-8f67-c26af296381d",
   "metadata": {},
   "source": [
    "git checkout hot-bugfix\n",
    "git merge hot-bugfix change-branc-history"
   ]
  },
  {
   "cell_type": "markdown",
   "id": "1fba8aa1-4cc9-474c-944a-aa9f83c826a6",
   "metadata": {},
   "source": [
    "The result should look like this:"
   ]
  },
  {
   "cell_type": "raw",
   "id": "6a3ab18a-2f4a-4c37-b1cf-c85d84878fbc",
   "metadata": {},
   "source": [
    "                 HEAD\n",
    "                  |\n",
    "   hot-bugfix, change-branch-history\n",
    "                  |\n",
    "A <----- C <----- B"
   ]
  },
  {
   "cell_type": "markdown",
   "id": "e48dfd4d-6510-498e-86c5-7a337664a449",
   "metadata": {},
   "source": [
    "Actually, the HEAD points at the last checkout operation, which is hot-bugfix. This branch is no longer needed and can be deleted, so the only branch left is change-branch-history:"
   ]
  },
  {
   "cell_type": "raw",
   "id": "83c86104-9662-45eb-9575-ff77abd594cb",
   "metadata": {},
   "source": [
    "git checkout change-branch-history\n",
    "git branch -d hot-bugfix"
   ]
  },
  {
   "cell_type": "markdown",
   "id": "ec59feb0-0001-4e6b-b111-9a0d4a7eae57",
   "metadata": {},
   "source": [
    "The remain history has only one branch with all the commits"
   ]
  },
  {
   "cell_type": "raw",
   "id": "1cf4f75e-876b-44d4-80e0-b7ff82a6aaab",
   "metadata": {},
   "source": [
    "                 HEAD\n",
    "                  |\n",
    "         change-branch-history\n",
    "                  |\n",
    "A <----- C <----- B"
   ]
  },
  {
   "cell_type": "markdown",
   "id": "1c08dbf1-75bd-4d64-b433-9db0be1972db",
   "metadata": {},
   "source": [
    "## 8) Remove ignored file: rm command"
   ]
  },
  {
   "cell_type": "markdown",
   "id": "5b03e4e8-2d1f-4a77-b40b-5f6a74c530e7",
   "metadata": {},
   "source": [
    "### Instructions\n",
    "\n",
    "File ignored.txt is ignored by rule in .gitignore but is tracked because it had been added before the ignoring rule was introduced.\n",
    "\n",
    "Remove it so changes in ignored.txt file are not tracked anymore."
   ]
  },
  {
   "cell_type": "markdown",
   "id": "9de8a01e-3c03-48b4-8d43-bb5f53eb3540",
   "metadata": {},
   "source": [
    "### The easiest solution"
   ]
  },
  {
   "cell_type": "markdown",
   "id": "8a154adb-4aa3-454c-b07c-f57191fcdd3d",
   "metadata": {},
   "source": [
    "There are two different approaches \n",
    "\n",
    "**1- keeping file in hard drive:** removing it from the Git tree only"
   ]
  },
  {
   "cell_type": "raw",
   "id": "ba1b276a-6979-4891-bd82-33364052cf27",
   "metadata": {},
   "source": [
    "git rm --cached ignored.txt\n",
    "git commit -m \"commit message\""
   ]
  },
  {
   "cell_type": "markdown",
   "id": "134add71-d8e9-44a3-9ed8-73370d3c591f",
   "metadata": {},
   "source": [
    "**2-deleting file from both Git tree and working directory:**"
   ]
  },
  {
   "cell_type": "markdown",
   "id": "c424e189-d938-46fc-b600-235155bf9c43",
   "metadata": {},
   "source": [
    "git rm ignored.txt\n",
    "git commit -m \"commit message\""
   ]
  },
  {
   "cell_type": "markdown",
   "id": "cebb5a60-2722-409e-b393-b6a1e3c5f178",
   "metadata": {},
   "source": [
    "## 9) Change a letter case in the filename of an already tracked file: Moving files "
   ]
  },
  {
   "cell_type": "markdown",
   "id": "ea76bad9-5f00-4299-9932-7218bfa4caf4",
   "metadata": {},
   "source": [
    "### Instructions\n",
    "\n",
    "You have committed a File.txt but then you realized the filename should be all lowercase: file.txt. Change the filename.\n",
    "\n",
    "This one is tricky on Windows, or in any filesystem that treats File.txt and file.txt as the same files."
   ]
  },
  {
   "cell_type": "markdown",
   "id": "b82cfb32-8e9a-4601-ac68-6826eec217fa",
   "metadata": {},
   "source": [
    "### The easiest solution"
   ]
  },
  {
   "cell_type": "raw",
   "id": "37cc3e7c-f82d-4f7d-9a15-130a518fe889",
   "metadata": {},
   "source": [
    "git mv File.txt file.txt\n",
    "git commit -m \"commit message\""
   ]
  },
  {
   "cell_type": "markdown",
   "id": "0139e984-8339-4907-83a9-31140d4500d4",
   "metadata": {},
   "source": [
    "The mv command is the same as in Bash. Using it inside Git doesn´t change the real file name, it is interpreted as renaming the tracked file. "
   ]
  },
  {
   "cell_type": "markdown",
   "id": "2ff31aaa-ba0d-457c-b27a-e8eb6f61a176",
   "metadata": {
    "jp-MarkdownHeadingCollapsed": true
   },
   "source": [
    "## 10) Fix typographic mistake in the last commit: --amend exercise "
   ]
  },
  {
   "cell_type": "markdown",
   "id": "c230197f-9827-4c51-9c91-4de3f961465f",
   "metadata": {},
   "source": [
    "### Instructions\n",
    "\n",
    "You have committed file.txt but you realized you made a typo - you wrote wordl instead of world.\n",
    "\n",
    "Edit previous commit so no one would realize you haven't checked the file before committing it.\n",
    "\n",
    "Pay attention to the commit message, too!\n"
   ]
  },
  {
   "cell_type": "markdown",
   "id": "b04e00fd-33cd-4718-a198-33fc223e1b2b",
   "metadata": {},
   "source": [
    "### The easiest solution"
   ]
  },
  {
   "cell_type": "markdown",
   "id": "e28a0b8e-ac6d-4935-a406-23c94052393b",
   "metadata": {},
   "source": [
    "**1- To change the last commit message only**: "
   ]
  },
  {
   "cell_type": "raw",
   "id": "2e67e4df-42ba-4b63-86b2-d458c3135804",
   "metadata": {},
   "source": [
    "git commit --amend -m \"New commit message\""
   ]
  },
  {
   "cell_type": "markdown",
   "id": "9b443d1b-f874-4f73-a97d-8e9d58971d47",
   "metadata": {},
   "source": [
    "**2- To replace the last commit with a new one with different file change and message:** make changes to the file and then execute"
   ]
  },
  {
   "cell_type": "raw",
   "id": "a550de85-8eef-45d2-9573-86e6b1a528bd",
   "metadata": {},
   "source": [
    "git add file.txt\n",
    "git commit --amend -m \"New commit message\""
   ]
  },
  {
   "cell_type": "markdown",
   "id": "6951b16c-a528-4d1d-aee2-beda12989856",
   "metadata": {
    "jp-MarkdownHeadingCollapsed": true
   },
   "source": [
    "## 11) Forge the commit's date: more on --ammend "
   ]
  },
  {
   "cell_type": "markdown",
   "id": "70e294a5-af03-4cc4-8139-e94522949b41",
   "metadata": {},
   "source": [
    "### Instructions\n",
    "\n",
    "You should have finished your work a week ago. However, you had some more important things to do so you have committed the work just now.\n",
    "\n",
    "As a git expert, change the date of the last commit. Don't be modest - make it look like it was committed in 1987!"
   ]
  },
  {
   "cell_type": "markdown",
   "id": "2a7ce799-1580-40a7-9811-9655873224de",
   "metadata": {},
   "source": [
    "### The easiest solution"
   ]
  },
  {
   "cell_type": "raw",
   "id": "8bc92ed7-491d-4935-9561-2e47b0f18a51",
   "metadata": {},
   "source": [
    "git commit --amend --no-edit --date=\"1987-08-03\"\n"
   ]
  },
  {
   "cell_type": "markdown",
   "id": "a6b8cc60-df41-457e-8455-df1b075f805d",
   "metadata": {},
   "source": [
    "## 12) Fix typographic mistake in old commit: rebase -i exercise"
   ]
  },
  {
   "cell_type": "markdown",
   "id": "596377b1-5018-46a0-89e0-6e3e6132f618",
   "metadata": {},
   "source": [
    "### Instructions\n",
    "\n",
    "While you were working you noticed a typographic error in file.txt - you wrote wordl instead of world.\n",
    "\n",
    "Unfortunately, you have made another commit on top of the typo so simple git commit --amend is not enough.\n",
    "\n",
    "Fix the typographic error by amending commit in history. Pay attention to the commit message, too!"
   ]
  },
  {
   "cell_type": "markdown",
   "id": "98790813-18b1-4351-ac1c-e940b511d867",
   "metadata": {},
   "source": [
    "**Note:** the final result has to be as follows\n",
    "* The typo in the first commit file.txt has to be fixed: \"Hello world\"\n",
    "* The typo in the first commit message has to be fixed: \"Add Hello world\"\n",
    "* The typo in the last commit file.txt has to be fixed: \"Hello world \\n Hello world is an excellent program.\""
   ]
  },
  {
   "cell_type": "markdown",
   "id": "cb6eef97-8229-4a87-b186-43517210e8da",
   "metadata": {},
   "source": [
    "### The easiest solution"
   ]
  },
  {
   "cell_type": "raw",
   "id": "f0a4ecfa-cfee-4a1b-81e0-55af0baf076c",
   "metadata": {},
   "source": [
    "# Enter the interactive mode\n",
    "git rebase -i \n",
    "# Choose ´edit´ for the first commit, and ´pick´ for the second one\n",
    "\n",
    "# While editing the first commit:\n",
    "nano file.txt [fix the typo]\n",
    "git add file.txt\n",
    "git commit --ammend -m \"Add Hello world\"\n",
    "git rebase --continue\n",
    "\n",
    "# A conflict arises. Fix the text in file.txt and continue\n",
    "nano file.txt [fix the typo, make sure that only the correct text is left]\n",
    "git add file.txt\n",
    "git rebase --continue"
   ]
  },
  {
   "cell_type": "markdown",
   "id": "c47d81d1-9fd0-4ca8-88fa-7904b33626d2",
   "metadata": {
    "jp-MarkdownHeadingCollapsed": true
   },
   "source": [
    "## 13) Find a commit that has been lost: reflog and reset"
   ]
  },
  {
   "cell_type": "markdown",
   "id": "f2fd1862-e1e2-494b-b4ea-24a73c9ac30d",
   "metadata": {},
   "source": [
    "### Instructions\n",
    "\n",
    "You have created a commit with very important piece of work. You then wanted to fix something in the last commit so you have amended it. However, you have just realized you have accidentally committed the wrong changes and you desperately need the first version of the commit you have just amended.\n",
    "\n",
    "However, there is no previous version in the history - you have edited the last commit with git commit --amend.\n",
    "\n",
    "Your goal is to find the first version of the commit in the repository. It must be somewhere...\n",
    "\n",
    "Once found, force the commit-lost branch to point at it again and verify the solution.\n"
   ]
  },
  {
   "cell_type": "markdown",
   "id": "9dc55352-8d75-4a09-8fc0-049bccfc9041",
   "metadata": {},
   "source": [
    "### The easiest solution"
   ]
  },
  {
   "cell_type": "markdown",
   "id": "6947dc07-bf30-42a0-87b5-7170d3e4ed95",
   "metadata": {},
   "source": [
    "**Notes**:\n",
    "* _git reflog_: gives a list of all the commits made, even the commit --amend ones\n",
    "    * It is the same as git _log -g --oneline_\n",
    "* _git log -g_: gives a detailed list of all the commits made\n",
    "* git reset < mode > < commit ID >: sets HEAD to the selected commit."
   ]
  },
  {
   "cell_type": "raw",
   "id": "f4b2c682-1e0b-4bd1-b985-0b5cc31def63",
   "metadata": {},
   "source": [
    "# Find the right commit before ammending\n",
    "git reflog ------ git log -g\n",
    "\n",
    "# Reset the HEAD to point to the right commit\n",
    "git reset <commit ID>"
   ]
  },
  {
   "cell_type": "markdown",
   "id": "8a10db36-f403-4853-82a2-96c22420f3c0",
   "metadata": {
    "jp-MarkdownHeadingCollapsed": true
   },
   "source": [
    "## 14) Split the last commit: using rebase -i and reset"
   ]
  },
  {
   "cell_type": "markdown",
   "id": "db8bdd3a-a371-40ee-9626-a15a362e8927",
   "metadata": {
    "jp-MarkdownHeadingCollapsed": true
   },
   "source": [
    "### Instructions\n",
    "\n",
    "You have committed both first.txt and second.txt as one commit. However, you made a mistake. You intended to commit first.txt in the first commit and the second.txt in the second one."
   ]
  },
  {
   "cell_type": "markdown",
   "id": "8a507d48-b2a7-4394-9c4b-c276185d9080",
   "metadata": {
    "jp-MarkdownHeadingCollapsed": true
   },
   "source": [
    "### The easiest solution"
   ]
  },
  {
   "cell_type": "markdown",
   "id": "b31b02a4-71f4-4afb-8153-2f8861653481",
   "metadata": {},
   "source": [
    "**Notes:**\n",
    "* _git reset HEAD^_ : reset the HEAD to point to the commit before the current one"
   ]
  },
  {
   "cell_type": "raw",
   "id": "b1630f9f-0dfd-441c-a097-310cbc155e05",
   "metadata": {},
   "source": [
    "git rebase -i [switch the instructions to edit]\n",
    "# Reset to previous commit to modify it\n",
    "git reset HEAD^\n",
    "git add first.txt\n",
    "git commit -m \"First commit\"\n",
    "git add second.txt\n",
    "git commit -m \"Second commit\""
   ]
  },
  {
   "cell_type": "markdown",
   "id": "09848117-1a71-4c3c-8877-58344c701935",
   "metadata": {
    "jp-MarkdownHeadingCollapsed": true
   },
   "source": [
    "## 15) Too many commits: Squashing commits"
   ]
  },
  {
   "cell_type": "markdown",
   "id": "292baccd-a4b8-4a15-bc64-bd5d361f5286",
   "metadata": {},
   "source": [
    "### Instructions\n",
    "\n",
    "You were working on an issue and created two commits introducing very small change. You don't want to mess up your project history so you want to make only one commit that contains changes made in the last two.\n",
    "\n",
    "Execute git log -2 to see last two commits.\n"
   ]
  },
  {
   "cell_type": "markdown",
   "id": "0713c07f-3dc1-409f-a741-ea73eb478a65",
   "metadata": {},
   "source": [
    "### The easiest solution"
   ]
  },
  {
   "cell_type": "markdown",
   "id": "d2cf513e-9584-4b9f-bda0-9e5e0fd0ef0c",
   "metadata": {},
   "source": [
    "**Notes:**\n",
    "* To squash two commits into a single one: in the rebase -i scrips, select _pick_ for the first commit and _squash_ for the second one\n",
    "* To squash more tha two commits: same as before, but selecting _squash_ for every commit after the first one."
   ]
  },
  {
   "cell_type": "raw",
   "id": "9f8e7650-5aa2-493b-afe0-1ed9ca4ed6f1",
   "metadata": {},
   "source": [
    "git rebase -i \n",
    "[change to squash in the second one]\n",
    "[edit commit message]"
   ]
  },
  {
   "cell_type": "markdown",
   "id": "4de9f181-266b-43c0-aabb-7d7ef6dd0a0d",
   "metadata": {
    "jp-MarkdownHeadingCollapsed": true
   },
   "source": [
    "## 16) Make the file executable by default"
   ]
  },
  {
   "cell_type": "markdown",
   "id": "81b9cbf5-1e66-4f66-b84c-94aaa86583b7",
   "metadata": {},
   "source": [
    "### Instructions\n",
    "\n",
    "You have created a simple bash script in script.sh. However, when you check it out on Unix, it does not have required execute permissions so you can't launch it with ./script.sh without performing chmod +x script.sh beforehand.\n",
    "\n",
    "Fix it by adding an executable bit for script.sh in Git history."
   ]
  },
  {
   "cell_type": "markdown",
   "id": "72896476-d9d5-4095-9b6b-53828fdd7326",
   "metadata": {},
   "source": [
    "### The easiest solution"
   ]
  },
  {
   "cell_type": "raw",
   "id": "5fbac65c-6825-451b-a11e-96a8b579a024",
   "metadata": {},
   "source": [
    "git update-index --chmod=+x script.sh"
   ]
  },
  {
   "cell_type": "raw",
   "id": "4a9a6adc-7cd5-4eed-bd3a-2ac6021b89cb",
   "metadata": {},
   "source": [
    "# It can also be achieved by setting the chmod flag when adding the file\n",
    "git add script.sh --chmod=+x"
   ]
  },
  {
   "cell_type": "markdown",
   "id": "a22dd35c-7c38-4526-ae97-995a8821cef7",
   "metadata": {
    "jp-MarkdownHeadingCollapsed": true
   },
   "source": [
    "## 17) Commit part of work"
   ]
  },
  {
   "cell_type": "markdown",
   "id": "7c2f1d2f-6690-49d2-8bfe-e01a7e1f5712",
   "metadata": {},
   "source": [
    "### Instructions\n",
    "\n",
    "You are working on an issue for a long time and you noticed you have done too much. You want your work to be committed in two separate commits instead of one.\n",
    "\n",
    "Unfortunately, your changes involve only one file so it is impossible to git add different files separately.\n",
    "\n",
    "Commit all new lines that contains \"Task 1\" phrase in the first commit and the rest of them in the second.\n"
   ]
  },
  {
   "cell_type": "markdown",
   "id": "bb5ebbcb-1324-49a7-ba3d-ad3fbcc93fa3",
   "metadata": {},
   "source": [
    "### The easiest solution"
   ]
  },
  {
   "cell_type": "markdown",
   "id": "20e5f6bc-da28-4c53-bbe1-5e34836b4742",
   "metadata": {},
   "source": [
    "**Notes:**\n",
    "* Adding interactive mode: git add --interactive.\n",
    "    * Patch option: further options on part of the file's content to add  "
   ]
  },
  {
   "cell_type": "raw",
   "id": "a9cc4a67-7359-4088-9517-e083bf0cf420",
   "metadata": {},
   "source": [
    "git add --interactive\n",
    "patch\n",
    "[select file]\n",
    "[select option e to edit]\n",
    "quit\n",
    "\n",
    "git commit -m \"Commit message\"\n",
    "#Adding the rest of the file\n",
    "git add file.txt\n",
    "git commit -m \"Commit message\""
   ]
  },
  {
   "cell_type": "markdown",
   "id": "e51695e3-243e-4aeb-9c03-59b2b059cb2f",
   "metadata": {
    "jp-MarkdownHeadingCollapsed": true
   },
   "source": [
    "## 18) Pick your features: cherry picking commits"
   ]
  },
  {
   "cell_type": "markdown",
   "id": "81c3d6fd-46d9-4012-abaa-304bdeaed7ba",
   "metadata": {},
   "source": [
    "### Instructions\n",
    "\n",
    "You have implemented three different features of a program in three different local topic branches."
   ]
  },
  {
   "cell_type": "raw",
   "id": "ba8d09e4-6e46-4e16-8c9e-bf453d1f4076",
   "metadata": {},
   "source": [
    "      HEAD             ---- B - feature-b\n",
    "       |              /\n",
    "pick-your-features - Z <--- A - feature-a\n",
    "                      \\\n",
    "                       ---- C1 <--- C2 - feature-c"
   ]
  },
  {
   "cell_type": "markdown",
   "id": "813c833c-03f1-4e7d-bef7-dc973b1eda8c",
   "metadata": {},
   "source": [
    "You want to have all these features as single commits in pick-your-features branch."
   ]
  },
  {
   "cell_type": "raw",
   "id": "c995c96e-4b2e-4f20-ad9e-739471362e44",
   "metadata": {},
   "source": [
    "                    HEAD\n",
    "                     |\n",
    "              pick-your-features\n",
    "                     |\n",
    "Z <--- A <--- B <--- C"
   ]
  },
  {
   "cell_type": "markdown",
   "id": "6b7612f7-d005-4afb-be6b-8679ba33a8e9",
   "metadata": {},
   "source": [
    "### The easiest solution"
   ]
  },
  {
   "cell_type": "raw",
   "id": "df3602c1-e55c-4a44-b598-bd657bbe4a11",
   "metadata": {},
   "source": [
    "git cherry-pick feature-a\n",
    "git cherry-pick feature-b\n",
    "git cherry-pick feature-c\n",
    "# resolve merge conflict\n",
    "git add -A\n",
    "git cherry-pick --continue"
   ]
  },
  {
   "cell_type": "markdown",
   "id": "956f5418-462e-4099-afc5-b42e8be3c54b",
   "metadata": {},
   "source": [
    "**Notes:**\n",
    "* _git cherry-pick_: implement changes made in the selected branches. If conflict arises, it shows a message and it has to be solved.\n",
    "* Another option: rebasing many times\n",
    " \n",
    "**Further info**\n",
    "\n",
    "Cherry picking commits is like doing small rebases (with one commit only). Unlike the rebase, cherry-pick moves the current branch forward. Therefore, the easiest way of passing this exercise was to git cherry-pick feature-a, feature-b and feature-c consecutively.\n",
    "\n",
    "However, as you should have noticed, cherry picks may lead to conflicts, too. When you tried to pick feature-c, Git should have complained that it does not know where to get first part of Feature C from (cherry-pick picks only one commit). Therefore, it is often good idea to squash commits first before cherry-picking them to other branch."
   ]
  },
  {
   "cell_type": "code",
   "execution_count": null,
   "id": "ad88c06f-211b-4173-a9df-6d3a01c4b210",
   "metadata": {},
   "outputs": [],
   "source": []
  }
 ],
 "metadata": {
  "kernelspec": {
   "display_name": "Python 3 (ipykernel)",
   "language": "python",
   "name": "python3"
  },
  "language_info": {
   "codemirror_mode": {
    "name": "ipython",
    "version": 3
   },
   "file_extension": ".py",
   "mimetype": "text/x-python",
   "name": "python",
   "nbconvert_exporter": "python",
   "pygments_lexer": "ipython3",
   "version": "3.12.3"
  }
 },
 "nbformat": 4,
 "nbformat_minor": 5
}
